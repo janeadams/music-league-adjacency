{
 "cells": [
  {
   "cell_type": "code",
   "execution_count": 1,
   "metadata": {},
   "outputs": [],
   "source": [
    "import pandas as pd\n",
    "from _clustergram import Clustergram\n",
    "import networkx as nx"
   ]
  },
  {
   "cell_type": "code",
   "execution_count": 2,
   "metadata": {},
   "outputs": [
    {
     "data": {
      "text/html": [
       "<div>\n",
       "<style scoped>\n",
       "    .dataframe tbody tr th:only-of-type {\n",
       "        vertical-align: middle;\n",
       "    }\n",
       "\n",
       "    .dataframe tbody tr th {\n",
       "        vertical-align: top;\n",
       "    }\n",
       "\n",
       "    .dataframe thead th {\n",
       "        text-align: right;\n",
       "    }\n",
       "</style>\n",
       "<table border=\"1\" class=\"dataframe\">\n",
       "  <thead>\n",
       "    <tr style=\"text-align: right;\">\n",
       "      <th></th>\n",
       "      <th>week</th>\n",
       "      <th>title</th>\n",
       "      <th>artist</th>\n",
       "      <th>album</th>\n",
       "      <th>total_votes</th>\n",
       "      <th>submitter</th>\n",
       "      <th>voter</th>\n",
       "      <th>vote</th>\n",
       "      <th>comment</th>\n",
       "    </tr>\n",
       "  </thead>\n",
       "  <tbody>\n",
       "    <tr>\n",
       "      <th>0</th>\n",
       "      <td>2</td>\n",
       "      <td>No Better</td>\n",
       "      <td>Lorde</td>\n",
       "      <td>No Better</td>\n",
       "      <td>26</td>\n",
       "      <td>skpurdue</td>\n",
       "      <td>gardenfractals</td>\n",
       "      <td>6</td>\n",
       "      <td>* This song slaps, hadn't heard it before</td>\n",
       "    </tr>\n",
       "    <tr>\n",
       "      <th>1</th>\n",
       "      <td>2</td>\n",
       "      <td>No Better</td>\n",
       "      <td>Lorde</td>\n",
       "      <td>No Better</td>\n",
       "      <td>26</td>\n",
       "      <td>skpurdue</td>\n",
       "      <td>Laura South</td>\n",
       "      <td>6</td>\n",
       "      <td>* love this song!!! good pick</td>\n",
       "    </tr>\n",
       "    <tr>\n",
       "      <th>2</th>\n",
       "      <td>2</td>\n",
       "      <td>No Better</td>\n",
       "      <td>Lorde</td>\n",
       "      <td>No Better</td>\n",
       "      <td>26</td>\n",
       "      <td>skpurdue</td>\n",
       "      <td>Dan Kerrigan</td>\n",
       "      <td>5</td>\n",
       "      <td>*</td>\n",
       "    </tr>\n",
       "    <tr>\n",
       "      <th>3</th>\n",
       "      <td>2</td>\n",
       "      <td>No Better</td>\n",
       "      <td>Lorde</td>\n",
       "      <td>No Better</td>\n",
       "      <td>26</td>\n",
       "      <td>skpurdue</td>\n",
       "      <td>Mac Creamer</td>\n",
       "      <td>3</td>\n",
       "      <td>*</td>\n",
       "    </tr>\n",
       "    <tr>\n",
       "      <th>4</th>\n",
       "      <td>2</td>\n",
       "      <td>No Better</td>\n",
       "      <td>Lorde</td>\n",
       "      <td>No Better</td>\n",
       "      <td>26</td>\n",
       "      <td>skpurdue</td>\n",
       "      <td>Connnnnor</td>\n",
       "      <td>3</td>\n",
       "      <td>*</td>\n",
       "    </tr>\n",
       "    <tr>\n",
       "      <th>...</th>\n",
       "      <td>...</td>\n",
       "      <td>...</td>\n",
       "      <td>...</td>\n",
       "      <td>...</td>\n",
       "      <td>...</td>\n",
       "      <td>...</td>\n",
       "      <td>...</td>\n",
       "      <td>...</td>\n",
       "      <td>...</td>\n",
       "    </tr>\n",
       "    <tr>\n",
       "      <th>368</th>\n",
       "      <td>6</td>\n",
       "      <td>Don't Judge Me</td>\n",
       "      <td>Janelle Monáe</td>\n",
       "      <td>Dirty Computer</td>\n",
       "      <td>17</td>\n",
       "      <td>skpurdue</td>\n",
       "      <td>Mac Creamer</td>\n",
       "      <td>2</td>\n",
       "      <td>* I had a hard time pulling the sample out of ...</td>\n",
       "    </tr>\n",
       "    <tr>\n",
       "      <th>369</th>\n",
       "      <td>6</td>\n",
       "      <td>Don't Judge Me</td>\n",
       "      <td>Janelle Monáe</td>\n",
       "      <td>Dirty Computer</td>\n",
       "      <td>17</td>\n",
       "      <td>skpurdue</td>\n",
       "      <td>Dan Kerrigan</td>\n",
       "      <td>2</td>\n",
       "      <td>*</td>\n",
       "    </tr>\n",
       "    <tr>\n",
       "      <th>370</th>\n",
       "      <td>6</td>\n",
       "      <td>Don't Judge Me</td>\n",
       "      <td>Janelle Monáe</td>\n",
       "      <td>Dirty Computer</td>\n",
       "      <td>17</td>\n",
       "      <td>skpurdue</td>\n",
       "      <td>Racquel Levia</td>\n",
       "      <td>1</td>\n",
       "      <td>*</td>\n",
       "    </tr>\n",
       "    <tr>\n",
       "      <th>371</th>\n",
       "      <td>6</td>\n",
       "      <td>Don't Judge Me</td>\n",
       "      <td>Janelle Monáe</td>\n",
       "      <td>Dirty Computer</td>\n",
       "      <td>17</td>\n",
       "      <td>skpurdue</td>\n",
       "      <td>gardenfractals</td>\n",
       "      <td>1</td>\n",
       "      <td>*</td>\n",
       "    </tr>\n",
       "    <tr>\n",
       "      <th>372</th>\n",
       "      <td>6</td>\n",
       "      <td>Don't Judge Me</td>\n",
       "      <td>Janelle Monáe</td>\n",
       "      <td>Dirty Computer</td>\n",
       "      <td>17</td>\n",
       "      <td>skpurdue</td>\n",
       "      <td>Connnnnor</td>\n",
       "      <td>1</td>\n",
       "      <td>*</td>\n",
       "    </tr>\n",
       "  </tbody>\n",
       "</table>\n",
       "<p>373 rows × 9 columns</p>\n",
       "</div>"
      ],
      "text/plain": [
       "     week           title         artist           album  total_votes  \\\n",
       "0       2       No Better          Lorde       No Better           26   \n",
       "1       2       No Better          Lorde       No Better           26   \n",
       "2       2       No Better          Lorde       No Better           26   \n",
       "3       2       No Better          Lorde       No Better           26   \n",
       "4       2       No Better          Lorde       No Better           26   \n",
       "..    ...             ...            ...             ...          ...   \n",
       "368     6  Don't Judge Me  Janelle Monáe  Dirty Computer           17   \n",
       "369     6  Don't Judge Me  Janelle Monáe  Dirty Computer           17   \n",
       "370     6  Don't Judge Me  Janelle Monáe  Dirty Computer           17   \n",
       "371     6  Don't Judge Me  Janelle Monáe  Dirty Computer           17   \n",
       "372     6  Don't Judge Me  Janelle Monáe  Dirty Computer           17   \n",
       "\n",
       "    submitter           voter  vote  \\\n",
       "0    skpurdue  gardenfractals     6   \n",
       "1    skpurdue     Laura South     6   \n",
       "2    skpurdue    Dan Kerrigan     5   \n",
       "3    skpurdue     Mac Creamer     3   \n",
       "4    skpurdue       Connnnnor     3   \n",
       "..        ...             ...   ...   \n",
       "368  skpurdue     Mac Creamer     2   \n",
       "369  skpurdue    Dan Kerrigan     2   \n",
       "370  skpurdue   Racquel Levia     1   \n",
       "371  skpurdue  gardenfractals     1   \n",
       "372  skpurdue       Connnnnor     1   \n",
       "\n",
       "                                               comment  \n",
       "0            * This song slaps, hadn't heard it before  \n",
       "1                        * love this song!!! good pick  \n",
       "2                                                    *  \n",
       "3                                                    *  \n",
       "4                                                    *  \n",
       "..                                                 ...  \n",
       "368  * I had a hard time pulling the sample out of ...  \n",
       "369                                                  *  \n",
       "370                                                  *  \n",
       "371                                                  *  \n",
       "372                                                  *  \n",
       "\n",
       "[373 rows x 9 columns]"
      ]
     },
     "execution_count": 2,
     "metadata": {},
     "output_type": "execute_result"
    }
   ],
   "source": [
    "# traverse results folder\n",
    "import os\n",
    "\n",
    "all_results = []\n",
    "\n",
    "for file in os.listdir('results'):\n",
    "    if file.endswith('.txt'):\n",
    "        with open(f'results/{file}', 'r') as file:\n",
    "            text = file.read()\n",
    "            week = int(file.name.split('week')[1].split('.')[0])\n",
    "            entries = text.split('Album art')[1:]\n",
    "            week_results = []\n",
    "            for entry in entries:\n",
    "                entry_results = []\n",
    "                offset = 0\n",
    "                elements = [e.strip() for e in entry.split('\\n')]\n",
    "                title = elements[4]\n",
    "                if elements[5] != '':\n",
    "                    #print(f'Title spans multiple lines in file {file.name}')\n",
    "                    title = title + ' ' + elements[5]\n",
    "                    offset = 1\n",
    "                artist = elements[6 + offset]\n",
    "                album = elements[8 + offset]\n",
    "                total_votes = int(elements[11 + offset])\n",
    "                vote_tally = 0\n",
    "                # Get the first user by finding the index of the first 'User avatar':\n",
    "                user_index = elements.index('User avatar')\n",
    "                submitter = elements[user_index + offset + 3]\n",
    "                # Get the votes by finding all of the remaining indexes of 'User avatar' \n",
    "                voter_ids = [i for i, e in enumerate(elements) if e == 'User avatar']\n",
    "                vote_summary = {}\n",
    "                for voter_id in voter_ids[1:]:\n",
    "                    voter = elements[voter_id  + offset + 1].replace('*','')\n",
    "                    if voter != 'Send':\n",
    "                        try:\n",
    "                            comment = elements[voter_id + 3]\n",
    "                            vote_offset = 0\n",
    "                            if elements[voter_id + 4] != '':\n",
    "                                comment = comment + ' ' + elements[voter_id + 3]\n",
    "                                vote_offset = 1\n",
    "                            try:\n",
    "                                vote = int(elements[voter_id + vote_offset + 6])\n",
    "                            except:\n",
    "                                vote = 0\n",
    "                            vote_summary[voter] = vote\n",
    "                            vote_tally += vote\n",
    "                            result = {\n",
    "                                'week': week,\n",
    "                                'title': title,\n",
    "                                'artist': artist,\n",
    "                                'album': album,\n",
    "                                'total_votes': total_votes,\n",
    "                                'submitter': submitter,\n",
    "                                'voter': voter,\n",
    "                                'vote': vote,\n",
    "                                'comment': comment\n",
    "                            }\n",
    "                            entry_results.append(result)\n",
    "                        except:\n",
    "                            print('ENTRY')\n",
    "                            print(f'Error in week {week} submission {title} processing vote for {voter}')\n",
    "                            print(elements[(voter_id):])\n",
    "                if vote_tally != total_votes:\n",
    "                    print(f'Error in week {week} submission {title} - vote tally is {vote_tally} but total votes is {total_votes}')\n",
    "                    for r in entry_results:\n",
    "                        print(f\"{r['voter']}: {r['vote']}\")\n",
    "                    print()\n",
    "                week_results.extend(entry_results)\n",
    "            all_results.extend(week_results)\n",
    "df = pd.DataFrame(all_results)\n",
    "df"
   ]
  },
  {
   "cell_type": "code",
   "execution_count": 3,
   "metadata": {},
   "outputs": [
    {
     "data": {
      "text/html": [
       "<div>\n",
       "<style scoped>\n",
       "    .dataframe tbody tr th:only-of-type {\n",
       "        vertical-align: middle;\n",
       "    }\n",
       "\n",
       "    .dataframe tbody tr th {\n",
       "        vertical-align: top;\n",
       "    }\n",
       "\n",
       "    .dataframe thead th {\n",
       "        text-align: right;\n",
       "    }\n",
       "</style>\n",
       "<table border=\"1\" class=\"dataframe\">\n",
       "  <thead>\n",
       "    <tr style=\"text-align: right;\">\n",
       "      <th></th>\n",
       "      <th>voter</th>\n",
       "      <th>submitter</th>\n",
       "      <th>vote</th>\n",
       "    </tr>\n",
       "  </thead>\n",
       "  <tbody>\n",
       "    <tr>\n",
       "      <th>1</th>\n",
       "      <td>Connnnnor</td>\n",
       "      <td>Dan Kerrigan</td>\n",
       "      <td>18</td>\n",
       "    </tr>\n",
       "    <tr>\n",
       "      <th>2</th>\n",
       "      <td>Connnnnor</td>\n",
       "      <td>Eduardo Puerta C</td>\n",
       "      <td>22</td>\n",
       "    </tr>\n",
       "    <tr>\n",
       "      <th>3</th>\n",
       "      <td>Connnnnor</td>\n",
       "      <td>Laura South</td>\n",
       "      <td>13</td>\n",
       "    </tr>\n",
       "    <tr>\n",
       "      <th>4</th>\n",
       "      <td>Connnnnor</td>\n",
       "      <td>Mac Creamer</td>\n",
       "      <td>17</td>\n",
       "    </tr>\n",
       "    <tr>\n",
       "      <th>5</th>\n",
       "      <td>Connnnnor</td>\n",
       "      <td>Racquel Levia</td>\n",
       "      <td>11</td>\n",
       "    </tr>\n",
       "    <tr>\n",
       "      <th>...</th>\n",
       "      <td>...</td>\n",
       "      <td>...</td>\n",
       "      <td>...</td>\n",
       "    </tr>\n",
       "    <tr>\n",
       "      <th>68</th>\n",
       "      <td>skpurdue</td>\n",
       "      <td>Laura South</td>\n",
       "      <td>5</td>\n",
       "    </tr>\n",
       "    <tr>\n",
       "      <th>69</th>\n",
       "      <td>skpurdue</td>\n",
       "      <td>Mac Creamer</td>\n",
       "      <td>12</td>\n",
       "    </tr>\n",
       "    <tr>\n",
       "      <th>70</th>\n",
       "      <td>skpurdue</td>\n",
       "      <td>Racquel Levia</td>\n",
       "      <td>15</td>\n",
       "    </tr>\n",
       "    <tr>\n",
       "      <th>71</th>\n",
       "      <td>skpurdue</td>\n",
       "      <td>Shani Spivak</td>\n",
       "      <td>18</td>\n",
       "    </tr>\n",
       "    <tr>\n",
       "      <th>72</th>\n",
       "      <td>skpurdue</td>\n",
       "      <td>gardenfractals</td>\n",
       "      <td>25</td>\n",
       "    </tr>\n",
       "  </tbody>\n",
       "</table>\n",
       "<p>72 rows × 3 columns</p>\n",
       "</div>"
      ],
      "text/plain": [
       "        voter         submitter  vote\n",
       "1   Connnnnor      Dan Kerrigan    18\n",
       "2   Connnnnor  Eduardo Puerta C    22\n",
       "3   Connnnnor       Laura South    13\n",
       "4   Connnnnor       Mac Creamer    17\n",
       "5   Connnnnor     Racquel Levia    11\n",
       "..        ...               ...   ...\n",
       "68   skpurdue       Laura South     5\n",
       "69   skpurdue       Mac Creamer    12\n",
       "70   skpurdue     Racquel Levia    15\n",
       "71   skpurdue      Shani Spivak    18\n",
       "72   skpurdue    gardenfractals    25\n",
       "\n",
       "[72 rows x 3 columns]"
      ]
     },
     "execution_count": 3,
     "metadata": {},
     "output_type": "execute_result"
    }
   ],
   "source": [
    "# add up the votes in the 'votes' column to get adjacency from voter to submitter\n",
    "adjacency = df.groupby(['voter', 'submitter'])['vote'].sum().reset_index()\n",
    "# Remove empty voters\n",
    "adjacency = adjacency[adjacency['voter'] != '']\n",
    "adjacency"
   ]
  },
  {
   "cell_type": "code",
   "execution_count": 4,
   "metadata": {},
   "outputs": [],
   "source": [
    "# convert to a matrix:\n",
    "matrix = adjacency.pivot_table(index='voter', columns='submitter', values='vote').fillna(0)\n",
    "# Remove any rows or columns that are all zeros\n",
    "matrix = matrix.loc[(matrix != 0).any(axis=1), (matrix != 0).any()]\n"
   ]
  },
  {
   "cell_type": "code",
   "execution_count": 5,
   "metadata": {},
   "outputs": [],
   "source": [
    "adjacency.to_csv('edgelist.csv', index=False)\n",
    "matrix.to_csv('matrix.csv', index=False)"
   ]
  },
  {
   "cell_type": "code",
   "execution_count": 6,
   "metadata": {},
   "outputs": [
    {
     "data": {
      "application/vnd.plotly.v1+json": {
       "config": {
        "plotlyServerURL": "https://plot.ly"
       },
       "data": [
        {
         "hoverinfo": "y+name",
         "line": {
          "width": 0.5
         },
         "marker": {
          "color": "rgb(0,116,217)"
         },
         "mode": "lines",
         "name": "Col Cluster 0",
         "type": "scatter",
         "x": [
          12.5,
          12.5,
          51.875,
          51.875
         ],
         "xaxis": "x3",
         "y": [
          29.88310559496787,
          34.68429039204925,
          34.68429039204925,
          32.87856444554719
         ],
         "yaxis": "y3"
        },
        {
         "hoverinfo": "y+name",
         "line": {
          "width": 0.5
         },
         "marker": {
          "color": "rgb(0,116,217)"
         },
         "mode": "lines",
         "name": "Col Cluster 1",
         "type": "scatter",
         "x": [
          5,
          5,
          20,
          20
         ],
         "xaxis": "x3",
         "y": [
          0,
          29.88310559496787,
          29.88310559496787,
          15.874507866387544
         ],
         "yaxis": "y3"
        },
        {
         "hoverinfo": "y+name",
         "line": {
          "width": 0.5
         },
         "marker": {
          "color": "rgb(0,116,217)"
         },
         "mode": "lines",
         "name": "Col Cluster 2",
         "type": "scatter",
         "x": [
          15,
          15,
          25,
          25
         ],
         "xaxis": "x3",
         "y": [
          0,
          15.874507866387544,
          15.874507866387544,
          0
         ],
         "yaxis": "y3"
        },
        {
         "hoverinfo": "y+name",
         "line": {
          "width": 0.5
         },
         "marker": {
          "color": "rgb(0,116,217)"
         },
         "mode": "lines",
         "name": "Col Cluster 3",
         "type": "scatter",
         "x": [
          35,
          35,
          45,
          45
         ],
         "xaxis": "x3",
         "y": [
          0,
          22.20360331117452,
          22.20360331117452,
          0
         ],
         "yaxis": "y3"
        },
        {
         "hoverinfo": "y+name",
         "line": {
          "width": 0.5
         },
         "marker": {
          "color": "rgb(0,116,217)"
         },
         "mode": "lines",
         "name": "Col Cluster 4",
         "type": "scatter",
         "x": [
          40,
          40,
          63.75,
          63.75
         ],
         "xaxis": "x3",
         "y": [
          22.20360331117452,
          32.87856444554719,
          32.87856444554719,
          25.92296279363144
         ],
         "yaxis": "y3"
        },
        {
         "hoverinfo": "y+name",
         "line": {
          "width": 0.5
         },
         "marker": {
          "color": "rgb(0,116,217)"
         },
         "mode": "lines",
         "name": "Col Cluster 5",
         "type": "scatter",
         "x": [
          55,
          55,
          72.5,
          72.5
         ],
         "xaxis": "x3",
         "y": [
          0,
          25.92296279363144,
          25.92296279363144,
          23.769728648009426
         ],
         "yaxis": "y3"
        },
        {
         "hoverinfo": "y+name",
         "line": {
          "width": 0.5
         },
         "marker": {
          "color": "rgb(0,116,217)"
         },
         "mode": "lines",
         "name": "Col Cluster 6",
         "type": "scatter",
         "x": [
          65,
          65,
          80,
          80
         ],
         "xaxis": "x3",
         "y": [
          0,
          23.769728648009426,
          23.769728648009426,
          21
         ],
         "yaxis": "y3"
        },
        {
         "hoverinfo": "y+name",
         "line": {
          "width": 0.5
         },
         "marker": {
          "color": "rgb(0,116,217)"
         },
         "mode": "lines",
         "name": "Col Cluster 7",
         "type": "scatter",
         "x": [
          75,
          75,
          85,
          85
         ],
         "xaxis": "x3",
         "y": [
          0,
          21,
          21,
          0
         ],
         "yaxis": "y3"
        },
        {
         "hoverinfo": "x+name",
         "line": {
          "width": 0.5
         },
         "marker": {
          "color": "rgb(0,116,217)"
         },
         "mode": "lines",
         "name": "Row Cluster 0",
         "type": "scatter",
         "x": [
          0,
          -19.87460691435179,
          -19.87460691435179,
          0
         ],
         "xaxis": "x9",
         "y": [
          15,
          15,
          25,
          25
         ],
         "yaxis": "y9"
        },
        {
         "hoverinfo": "x+name",
         "line": {
          "width": 0.5
         },
         "marker": {
          "color": "rgb(0,116,217)"
         },
         "mode": "lines",
         "name": "Row Cluster 1",
         "type": "scatter",
         "x": [
          0,
          -20.199009876724155,
          -20.199009876724155,
          0
         ],
         "xaxis": "x9",
         "y": [
          75,
          75,
          85,
          85
         ],
         "yaxis": "y9"
        },
        {
         "hoverinfo": "x+name",
         "line": {
          "width": 0.5
         },
         "marker": {
          "color": "rgb(0,116,217)"
         },
         "mode": "lines",
         "name": "Row Cluster 2",
         "type": "scatter",
         "x": [
          0,
          -29.393876913398138,
          -29.393876913398138,
          -20.199009876724155
         ],
         "xaxis": "x9",
         "y": [
          65,
          65,
          80,
          80
         ],
         "yaxis": "y9"
        },
        {
         "hoverinfo": "x+name",
         "line": {
          "width": 0.5
         },
         "marker": {
          "color": "rgb(0,116,217)"
         },
         "mode": "lines",
         "name": "Row Cluster 3",
         "type": "scatter",
         "x": [
          0,
          -22.045407685048602,
          -22.045407685048602,
          0
         ],
         "xaxis": "x9",
         "y": [
          45,
          45,
          55,
          55
         ],
         "yaxis": "y9"
        },
        {
         "hoverinfo": "x+name",
         "line": {
          "width": 0.5
         },
         "marker": {
          "color": "rgb(0,116,217)"
         },
         "mode": "lines",
         "name": "Row Cluster 4",
         "type": "scatter",
         "x": [
          0,
          -25.942243542145693,
          -25.942243542145693,
          -22.045407685048602
         ],
         "xaxis": "x9",
         "y": [
          35,
          35,
          50,
          50
         ],
         "yaxis": "y9"
        },
        {
         "hoverinfo": "x+name",
         "line": {
          "width": 0.5
         },
         "marker": {
          "color": "rgb(0,116,217)"
         },
         "mode": "lines",
         "name": "Row Cluster 5",
         "type": "scatter",
         "x": [
          -28.513154858766505,
          -34.132096331752024,
          -34.132096331752024,
          -29.393876913398138
         ],
         "xaxis": "x9",
         "y": [
          27.5,
          27.5,
          72.5,
          72.5
         ],
         "yaxis": "y9"
        },
        {
         "hoverinfo": "x+name",
         "line": {
          "width": 0.5
         },
         "marker": {
          "color": "rgb(0,116,217)"
         },
         "mode": "lines",
         "name": "Row Cluster 6",
         "type": "scatter",
         "x": [
          -24.269322199023193,
          -28.513154858766505,
          -28.513154858766505,
          -25.942243542145693
         ],
         "xaxis": "x9",
         "y": [
          12.5,
          12.5,
          42.5,
          42.5
         ],
         "yaxis": "y9"
        },
        {
         "hoverinfo": "x+name",
         "line": {
          "width": 0.5
         },
         "marker": {
          "color": "rgb(0,116,217)"
         },
         "mode": "lines",
         "name": "Row Cluster 7",
         "type": "scatter",
         "x": [
          0,
          -24.269322199023193,
          -24.269322199023193,
          -19.87460691435179
         ],
         "xaxis": "x9",
         "y": [
          5,
          5,
          20,
          20
         ],
         "yaxis": "y9"
        },
        {
         "colorbar": {
          "xpad": 100
         },
         "colorscale": [
          [
           0,
           "#222"
          ],
          [
           1,
           "aqua"
          ]
         ],
         "type": "heatmap",
         "x": [
          5,
          15,
          25,
          35,
          45,
          55,
          65,
          75,
          85
         ],
         "xaxis": "x11",
         "y": [
          5,
          15,
          25,
          35,
          45,
          55,
          65,
          75,
          85
         ],
         "yaxis": "y11",
         "z": [
          [
           19,
           13,
           10,
           14,
           13,
           21,
           0,
           13,
           16
          ],
          [
           25,
           0,
           8,
           10,
           15,
           13,
           12,
           12,
           10
          ],
          [
           13,
           8,
           11,
           7,
           7,
           13,
           11,
           14,
           0
          ],
          [
           12,
           12,
           16,
           20,
           18,
           0,
           14,
           18,
           14
          ],
          [
           14,
           13,
           17,
           22,
           15,
           15,
           18,
           0,
           11
          ],
          [
           18,
           10,
           18,
           16,
           0,
           16,
           16,
           13,
           16
          ],
          [
           13,
           7,
           10,
           0,
           10,
           23,
           24,
           21,
           15
          ],
          [
           13,
           4,
           0,
           22,
           19,
           19,
           15,
           20,
           13
          ],
          [
           0,
           5,
           12,
           18,
           25,
           18,
           16,
           14,
           15
          ]
         ]
        }
       ],
       "layout": {
        "height": 400,
        "hovermode": "closest",
        "legend": {
         "x": 0.7,
         "y": 0.7
        },
        "paper_bgcolor": "rgba(0,0,0,0)",
        "plot_bgcolor": "rgba(0,0,0,0)",
        "showlegend": false,
        "template": {
         "data": {
          "bar": [
           {
            "error_x": {
             "color": "#f2f5fa"
            },
            "error_y": {
             "color": "#f2f5fa"
            },
            "marker": {
             "line": {
              "color": "rgb(17,17,17)",
              "width": 0.5
             },
             "pattern": {
              "fillmode": "overlay",
              "size": 10,
              "solidity": 0.2
             }
            },
            "type": "bar"
           }
          ],
          "barpolar": [
           {
            "marker": {
             "line": {
              "color": "rgb(17,17,17)",
              "width": 0.5
             },
             "pattern": {
              "fillmode": "overlay",
              "size": 10,
              "solidity": 0.2
             }
            },
            "type": "barpolar"
           }
          ],
          "carpet": [
           {
            "aaxis": {
             "endlinecolor": "#A2B1C6",
             "gridcolor": "#506784",
             "linecolor": "#506784",
             "minorgridcolor": "#506784",
             "startlinecolor": "#A2B1C6"
            },
            "baxis": {
             "endlinecolor": "#A2B1C6",
             "gridcolor": "#506784",
             "linecolor": "#506784",
             "minorgridcolor": "#506784",
             "startlinecolor": "#A2B1C6"
            },
            "type": "carpet"
           }
          ],
          "choropleth": [
           {
            "colorbar": {
             "outlinewidth": 0,
             "ticks": ""
            },
            "type": "choropleth"
           }
          ],
          "contour": [
           {
            "colorbar": {
             "outlinewidth": 0,
             "ticks": ""
            },
            "colorscale": [
             [
              0,
              "#0d0887"
             ],
             [
              0.1111111111111111,
              "#46039f"
             ],
             [
              0.2222222222222222,
              "#7201a8"
             ],
             [
              0.3333333333333333,
              "#9c179e"
             ],
             [
              0.4444444444444444,
              "#bd3786"
             ],
             [
              0.5555555555555556,
              "#d8576b"
             ],
             [
              0.6666666666666666,
              "#ed7953"
             ],
             [
              0.7777777777777778,
              "#fb9f3a"
             ],
             [
              0.8888888888888888,
              "#fdca26"
             ],
             [
              1,
              "#f0f921"
             ]
            ],
            "type": "contour"
           }
          ],
          "contourcarpet": [
           {
            "colorbar": {
             "outlinewidth": 0,
             "ticks": ""
            },
            "type": "contourcarpet"
           }
          ],
          "heatmap": [
           {
            "colorbar": {
             "outlinewidth": 0,
             "ticks": ""
            },
            "colorscale": [
             [
              0,
              "#0d0887"
             ],
             [
              0.1111111111111111,
              "#46039f"
             ],
             [
              0.2222222222222222,
              "#7201a8"
             ],
             [
              0.3333333333333333,
              "#9c179e"
             ],
             [
              0.4444444444444444,
              "#bd3786"
             ],
             [
              0.5555555555555556,
              "#d8576b"
             ],
             [
              0.6666666666666666,
              "#ed7953"
             ],
             [
              0.7777777777777778,
              "#fb9f3a"
             ],
             [
              0.8888888888888888,
              "#fdca26"
             ],
             [
              1,
              "#f0f921"
             ]
            ],
            "type": "heatmap"
           }
          ],
          "heatmapgl": [
           {
            "colorbar": {
             "outlinewidth": 0,
             "ticks": ""
            },
            "colorscale": [
             [
              0,
              "#0d0887"
             ],
             [
              0.1111111111111111,
              "#46039f"
             ],
             [
              0.2222222222222222,
              "#7201a8"
             ],
             [
              0.3333333333333333,
              "#9c179e"
             ],
             [
              0.4444444444444444,
              "#bd3786"
             ],
             [
              0.5555555555555556,
              "#d8576b"
             ],
             [
              0.6666666666666666,
              "#ed7953"
             ],
             [
              0.7777777777777778,
              "#fb9f3a"
             ],
             [
              0.8888888888888888,
              "#fdca26"
             ],
             [
              1,
              "#f0f921"
             ]
            ],
            "type": "heatmapgl"
           }
          ],
          "histogram": [
           {
            "marker": {
             "pattern": {
              "fillmode": "overlay",
              "size": 10,
              "solidity": 0.2
             }
            },
            "type": "histogram"
           }
          ],
          "histogram2d": [
           {
            "colorbar": {
             "outlinewidth": 0,
             "ticks": ""
            },
            "colorscale": [
             [
              0,
              "#0d0887"
             ],
             [
              0.1111111111111111,
              "#46039f"
             ],
             [
              0.2222222222222222,
              "#7201a8"
             ],
             [
              0.3333333333333333,
              "#9c179e"
             ],
             [
              0.4444444444444444,
              "#bd3786"
             ],
             [
              0.5555555555555556,
              "#d8576b"
             ],
             [
              0.6666666666666666,
              "#ed7953"
             ],
             [
              0.7777777777777778,
              "#fb9f3a"
             ],
             [
              0.8888888888888888,
              "#fdca26"
             ],
             [
              1,
              "#f0f921"
             ]
            ],
            "type": "histogram2d"
           }
          ],
          "histogram2dcontour": [
           {
            "colorbar": {
             "outlinewidth": 0,
             "ticks": ""
            },
            "colorscale": [
             [
              0,
              "#0d0887"
             ],
             [
              0.1111111111111111,
              "#46039f"
             ],
             [
              0.2222222222222222,
              "#7201a8"
             ],
             [
              0.3333333333333333,
              "#9c179e"
             ],
             [
              0.4444444444444444,
              "#bd3786"
             ],
             [
              0.5555555555555556,
              "#d8576b"
             ],
             [
              0.6666666666666666,
              "#ed7953"
             ],
             [
              0.7777777777777778,
              "#fb9f3a"
             ],
             [
              0.8888888888888888,
              "#fdca26"
             ],
             [
              1,
              "#f0f921"
             ]
            ],
            "type": "histogram2dcontour"
           }
          ],
          "mesh3d": [
           {
            "colorbar": {
             "outlinewidth": 0,
             "ticks": ""
            },
            "type": "mesh3d"
           }
          ],
          "parcoords": [
           {
            "line": {
             "colorbar": {
              "outlinewidth": 0,
              "ticks": ""
             }
            },
            "type": "parcoords"
           }
          ],
          "pie": [
           {
            "automargin": true,
            "type": "pie"
           }
          ],
          "scatter": [
           {
            "marker": {
             "line": {
              "color": "#283442"
             }
            },
            "type": "scatter"
           }
          ],
          "scatter3d": [
           {
            "line": {
             "colorbar": {
              "outlinewidth": 0,
              "ticks": ""
             }
            },
            "marker": {
             "colorbar": {
              "outlinewidth": 0,
              "ticks": ""
             }
            },
            "type": "scatter3d"
           }
          ],
          "scattercarpet": [
           {
            "marker": {
             "colorbar": {
              "outlinewidth": 0,
              "ticks": ""
             }
            },
            "type": "scattercarpet"
           }
          ],
          "scattergeo": [
           {
            "marker": {
             "colorbar": {
              "outlinewidth": 0,
              "ticks": ""
             }
            },
            "type": "scattergeo"
           }
          ],
          "scattergl": [
           {
            "marker": {
             "line": {
              "color": "#283442"
             }
            },
            "type": "scattergl"
           }
          ],
          "scattermapbox": [
           {
            "marker": {
             "colorbar": {
              "outlinewidth": 0,
              "ticks": ""
             }
            },
            "type": "scattermapbox"
           }
          ],
          "scatterpolar": [
           {
            "marker": {
             "colorbar": {
              "outlinewidth": 0,
              "ticks": ""
             }
            },
            "type": "scatterpolar"
           }
          ],
          "scatterpolargl": [
           {
            "marker": {
             "colorbar": {
              "outlinewidth": 0,
              "ticks": ""
             }
            },
            "type": "scatterpolargl"
           }
          ],
          "scatterternary": [
           {
            "marker": {
             "colorbar": {
              "outlinewidth": 0,
              "ticks": ""
             }
            },
            "type": "scatterternary"
           }
          ],
          "surface": [
           {
            "colorbar": {
             "outlinewidth": 0,
             "ticks": ""
            },
            "colorscale": [
             [
              0,
              "#0d0887"
             ],
             [
              0.1111111111111111,
              "#46039f"
             ],
             [
              0.2222222222222222,
              "#7201a8"
             ],
             [
              0.3333333333333333,
              "#9c179e"
             ],
             [
              0.4444444444444444,
              "#bd3786"
             ],
             [
              0.5555555555555556,
              "#d8576b"
             ],
             [
              0.6666666666666666,
              "#ed7953"
             ],
             [
              0.7777777777777778,
              "#fb9f3a"
             ],
             [
              0.8888888888888888,
              "#fdca26"
             ],
             [
              1,
              "#f0f921"
             ]
            ],
            "type": "surface"
           }
          ],
          "table": [
           {
            "cells": {
             "fill": {
              "color": "#506784"
             },
             "line": {
              "color": "rgb(17,17,17)"
             }
            },
            "header": {
             "fill": {
              "color": "#2a3f5f"
             },
             "line": {
              "color": "rgb(17,17,17)"
             }
            },
            "type": "table"
           }
          ]
         },
         "layout": {
          "annotationdefaults": {
           "arrowcolor": "#f2f5fa",
           "arrowhead": 0,
           "arrowwidth": 1
          },
          "autotypenumbers": "strict",
          "coloraxis": {
           "colorbar": {
            "outlinewidth": 0,
            "ticks": ""
           }
          },
          "colorscale": {
           "diverging": [
            [
             0,
             "#8e0152"
            ],
            [
             0.1,
             "#c51b7d"
            ],
            [
             0.2,
             "#de77ae"
            ],
            [
             0.3,
             "#f1b6da"
            ],
            [
             0.4,
             "#fde0ef"
            ],
            [
             0.5,
             "#f7f7f7"
            ],
            [
             0.6,
             "#e6f5d0"
            ],
            [
             0.7,
             "#b8e186"
            ],
            [
             0.8,
             "#7fbc41"
            ],
            [
             0.9,
             "#4d9221"
            ],
            [
             1,
             "#276419"
            ]
           ],
           "sequential": [
            [
             0,
             "#0d0887"
            ],
            [
             0.1111111111111111,
             "#46039f"
            ],
            [
             0.2222222222222222,
             "#7201a8"
            ],
            [
             0.3333333333333333,
             "#9c179e"
            ],
            [
             0.4444444444444444,
             "#bd3786"
            ],
            [
             0.5555555555555556,
             "#d8576b"
            ],
            [
             0.6666666666666666,
             "#ed7953"
            ],
            [
             0.7777777777777778,
             "#fb9f3a"
            ],
            [
             0.8888888888888888,
             "#fdca26"
            ],
            [
             1,
             "#f0f921"
            ]
           ],
           "sequentialminus": [
            [
             0,
             "#0d0887"
            ],
            [
             0.1111111111111111,
             "#46039f"
            ],
            [
             0.2222222222222222,
             "#7201a8"
            ],
            [
             0.3333333333333333,
             "#9c179e"
            ],
            [
             0.4444444444444444,
             "#bd3786"
            ],
            [
             0.5555555555555556,
             "#d8576b"
            ],
            [
             0.6666666666666666,
             "#ed7953"
            ],
            [
             0.7777777777777778,
             "#fb9f3a"
            ],
            [
             0.8888888888888888,
             "#fdca26"
            ],
            [
             1,
             "#f0f921"
            ]
           ]
          },
          "colorway": [
           "#636efa",
           "#EF553B",
           "#00cc96",
           "#ab63fa",
           "#FFA15A",
           "#19d3f3",
           "#FF6692",
           "#B6E880",
           "#FF97FF",
           "#FECB52"
          ],
          "font": {
           "color": "#f2f5fa"
          },
          "geo": {
           "bgcolor": "rgb(17,17,17)",
           "lakecolor": "rgb(17,17,17)",
           "landcolor": "rgb(17,17,17)",
           "showlakes": true,
           "showland": true,
           "subunitcolor": "#506784"
          },
          "hoverlabel": {
           "align": "left"
          },
          "hovermode": "closest",
          "mapbox": {
           "style": "dark"
          },
          "paper_bgcolor": "rgb(17,17,17)",
          "plot_bgcolor": "rgb(17,17,17)",
          "polar": {
           "angularaxis": {
            "gridcolor": "#506784",
            "linecolor": "#506784",
            "ticks": ""
           },
           "bgcolor": "rgb(17,17,17)",
           "radialaxis": {
            "gridcolor": "#506784",
            "linecolor": "#506784",
            "ticks": ""
           }
          },
          "scene": {
           "xaxis": {
            "backgroundcolor": "rgb(17,17,17)",
            "gridcolor": "#506784",
            "gridwidth": 2,
            "linecolor": "#506784",
            "showbackground": true,
            "ticks": "",
            "zerolinecolor": "#C8D4E3"
           },
           "yaxis": {
            "backgroundcolor": "rgb(17,17,17)",
            "gridcolor": "#506784",
            "gridwidth": 2,
            "linecolor": "#506784",
            "showbackground": true,
            "ticks": "",
            "zerolinecolor": "#C8D4E3"
           },
           "zaxis": {
            "backgroundcolor": "rgb(17,17,17)",
            "gridcolor": "#506784",
            "gridwidth": 2,
            "linecolor": "#506784",
            "showbackground": true,
            "ticks": "",
            "zerolinecolor": "#C8D4E3"
           }
          },
          "shapedefaults": {
           "line": {
            "color": "#f2f5fa"
           }
          },
          "sliderdefaults": {
           "bgcolor": "#C8D4E3",
           "bordercolor": "rgb(17,17,17)",
           "borderwidth": 1,
           "tickwidth": 0
          },
          "ternary": {
           "aaxis": {
            "gridcolor": "#506784",
            "linecolor": "#506784",
            "ticks": ""
           },
           "baxis": {
            "gridcolor": "#506784",
            "linecolor": "#506784",
            "ticks": ""
           },
           "bgcolor": "rgb(17,17,17)",
           "caxis": {
            "gridcolor": "#506784",
            "linecolor": "#506784",
            "ticks": ""
           }
          },
          "title": {
           "x": 0.05
          },
          "updatemenudefaults": {
           "bgcolor": "#506784",
           "borderwidth": 0
          },
          "xaxis": {
           "automargin": true,
           "gridcolor": "#283442",
           "linecolor": "#506784",
           "ticks": "",
           "title": {
            "standoff": 15
           },
           "zerolinecolor": "#283442",
           "zerolinewidth": 2
          },
          "yaxis": {
           "automargin": true,
           "gridcolor": "#283442",
           "linecolor": "#506784",
           "ticks": "",
           "title": {
            "standoff": 15
           },
           "zerolinecolor": "#283442",
           "zerolinewidth": 2
          }
         }
        },
        "width": 800,
        "xaxis": {
         "anchor": "y",
         "domain": [
          0,
          0.95
         ],
         "fixedrange": false,
         "mirror": false,
         "showgrid": false,
         "showline": false,
         "showticklabels": false,
         "type": "linear",
         "zeroline": false
        },
        "xaxis10": {
         "anchor": "y10",
         "domain": [
          0.15833333333333333,
          0.15833333333333333
         ],
         "fixedrange": false,
         "mirror": false,
         "showgrid": false,
         "showline": false,
         "showticklabels": false,
         "type": "linear",
         "zeroline": false
        },
        "xaxis11": {
         "anchor": "y11",
         "domain": [
          0.15833333333333333,
          0.95
         ],
         "fixedrange": false,
         "mirror": false,
         "range": [
          0,
          90
         ],
         "showgrid": false,
         "showline": false,
         "showticklabels": true,
         "side": "bottom",
         "tickmode": "array",
         "ticktext": [
          "skpurdue (127)",
          "Laura South (72)",
          "Mac Creamer (102)",
          "Eduardo Puerta C (129)",
          "gardenfractals (122)",
          "Shani Spivak (138)",
          "Dan Kerrigan (126)",
          "Connnnnor (125)",
          "Racquel Levia (110)"
         ],
         "tickvals": [
          5,
          15,
          25,
          35,
          45,
          55,
          65,
          75,
          85
         ],
         "title": {
          "text": "Submitters"
         },
         "type": "linear",
         "zeroline": false
        },
        "xaxis12": {
         "anchor": "y12",
         "domain": [
          0.95,
          1
         ],
         "fixedrange": false,
         "mirror": false,
         "range": [
          -5,
          1
         ],
         "showgrid": false,
         "showline": false,
         "showticklabels": false,
         "type": "linear",
         "zeroline": false
        },
        "xaxis13": {
         "anchor": "y13",
         "domain": [
          0,
          0.2
         ]
        },
        "xaxis14": {
         "anchor": "y14",
         "domain": [
          0.2,
          0.4
         ]
        },
        "xaxis15": {
         "anchor": "y15",
         "domain": [
          0.15833333333333333,
          0.95
         ],
         "fixedrange": false,
         "mirror": false,
         "range": [
          5,
          85
         ],
         "scaleanchor": "x11",
         "scaleratio": 1,
         "showgrid": false,
         "showline": false,
         "showticklabels": false,
         "type": "linear",
         "zeroline": false
        },
        "xaxis16": {
         "anchor": "y16",
         "domain": [
          0.8,
          1
         ]
        },
        "xaxis2": {
         "anchor": "y2",
         "domain": [
          0.2,
          0.4
         ]
        },
        "xaxis3": {
         "anchor": "y9",
         "domain": [
          0.15833333333333333,
          0.95
         ],
         "fixedrange": false,
         "mirror": false,
         "scaleanchor": "x11",
         "showgrid": false,
         "showline": false,
         "showticklabels": false,
         "type": "linear",
         "zeroline": false
        },
        "xaxis4": {
         "anchor": "y4",
         "domain": [
          0.8,
          1
         ]
        },
        "xaxis5": {
         "anchor": "y5",
         "domain": [
          0,
          0.95
         ],
         "fixedrange": false,
         "mirror": false,
         "showgrid": false,
         "showline": false,
         "showticklabels": false,
         "type": "linear",
         "zeroline": false
        },
        "xaxis6": {
         "anchor": "y6",
         "domain": [
          0.2,
          0.4
         ],
         "fixedrange": false,
         "mirror": false,
         "showgrid": false,
         "showline": false,
         "showticklabels": false,
         "type": "linear",
         "zeroline": false
        },
        "xaxis7": {
         "anchor": "y9",
         "domain": [
          0.15833333333333333,
          0.95
         ],
         "fixedrange": false,
         "mirror": false,
         "showgrid": false,
         "showline": false,
         "showticklabels": false,
         "type": "linear",
         "zeroline": false
        },
        "xaxis8": {
         "anchor": "y8",
         "domain": [
          0.8,
          1
         ]
        },
        "xaxis9": {
         "anchor": "y9",
         "domain": [
          0,
          0.15833333333333333
         ],
         "fixedrange": false,
         "mirror": false,
         "showgrid": false,
         "showline": false,
         "showticklabels": false,
         "type": "linear",
         "zeroline": false
        },
        "yaxis": {
         "anchor": "x",
         "domain": [
          0.8416666666666667,
          1
         ],
         "fixedrange": false,
         "mirror": false,
         "showgrid": false,
         "showline": false,
         "showticklabels": false,
         "type": "linear",
         "zeroline": false
        },
        "yaxis10": {
         "anchor": "x10",
         "domain": [
          0,
          0.8416666666666667
         ],
         "fixedrange": false,
         "mirror": false,
         "showgrid": false,
         "showline": false,
         "showticklabels": false,
         "type": "linear",
         "zeroline": false
        },
        "yaxis11": {
         "anchor": "x11",
         "domain": [
          0,
          0.8416666666666667
         ],
         "fixedrange": false,
         "mirror": false,
         "showgrid": false,
         "showline": false,
         "showticklabels": true,
         "side": "right",
         "tickmode": "array",
         "ticktext": [
          "Dan Kerrigan",
          "Laura South",
          "Racquel Levia",
          "Shani Spivak",
          "Connnnnor",
          "gardenfractals",
          "Eduardo Puerta C",
          "Mac Creamer",
          "skpurdue"
         ],
         "tickvals": [
          5,
          15,
          25,
          35,
          45,
          55,
          65,
          75,
          85
         ],
         "title": {
          "text": "Voters"
         },
         "type": "linear",
         "zeroline": false
        },
        "yaxis12": {
         "anchor": "x12",
         "domain": [
          0,
          0.7916666666666666
         ],
         "fixedrange": false,
         "mirror": false,
         "range": [
          5,
          85
         ],
         "scaleanchor": "y11",
         "scaleratio": 1,
         "showgrid": false,
         "showline": false,
         "showticklabels": false,
         "type": "linear",
         "zeroline": false
        },
        "yaxis13": {
         "anchor": "x13",
         "domain": [
          0,
          0.2
         ]
        },
        "yaxis14": {
         "anchor": "x14",
         "domain": [
          0,
          0.2
         ]
        },
        "yaxis15": {
         "anchor": "x15",
         "domain": [
          0.7916666666666666,
          0.8416666666666667
         ],
         "fixedrange": false,
         "mirror": false,
         "range": [
          -0.5,
          0.5
         ],
         "showgrid": false,
         "showline": false,
         "showticklabels": false,
         "type": "linear",
         "zeroline": false
        },
        "yaxis16": {
         "anchor": "x16",
         "domain": [
          0,
          0.2
         ]
        },
        "yaxis2": {
         "anchor": "x2",
         "domain": [
          0.8,
          1
         ]
        },
        "yaxis3": {
         "anchor": "x3",
         "domain": [
          0.8416666666666667,
          1
         ],
         "fixedrange": false,
         "mirror": false,
         "range": [
          0,
          34.68429039204925
         ],
         "showgrid": false,
         "showline": false,
         "showticklabels": false,
         "type": "linear",
         "zeroline": false
        },
        "yaxis4": {
         "anchor": "x4",
         "domain": [
          0.8,
          1
         ]
        },
        "yaxis5": {
         "anchor": "x5",
         "domain": [
          0.8416666666666667,
          0.8416666666666667
         ],
         "fixedrange": false,
         "mirror": false,
         "showgrid": false,
         "showline": false,
         "showticklabels": false,
         "type": "linear",
         "zeroline": false
        },
        "yaxis6": {
         "anchor": "x6",
         "domain": [
          0.8416666666666667,
          0.8416666666666667
         ],
         "fixedrange": false,
         "mirror": false,
         "showgrid": false,
         "showline": false,
         "showticklabels": false,
         "type": "linear",
         "zeroline": false
        },
        "yaxis7": {
         "anchor": "x7",
         "domain": [
          0.8416666666666667,
          0.8416666666666667
         ],
         "fixedrange": false,
         "mirror": false,
         "showgrid": false,
         "showline": false,
         "showticklabels": false,
         "type": "linear",
         "zeroline": false
        },
        "yaxis8": {
         "anchor": "x8",
         "domain": [
          0.6000000000000001,
          0.8
         ]
        },
        "yaxis9": {
         "anchor": "x9",
         "domain": [
          0,
          0.8416666666666667
         ],
         "fixedrange": false,
         "mirror": false,
         "range": [
          5,
          85
         ],
         "scaleanchor": "y11",
         "showgrid": false,
         "showline": false,
         "showticklabels": false,
         "type": "linear",
         "zeroline": false
        }
       }
      }
     },
     "metadata": {},
     "output_type": "display_data"
    }
   ],
   "source": [
    "# For each submitter, get the total votes they received from the matrix and add it to their name:\n",
    "new_names = []\n",
    "for submitter in matrix.columns:\n",
    "    total_votes = int(matrix[submitter].sum())\n",
    "    new_names.append(f'{submitter} ({total_votes})')\n",
    "matrix.columns = new_names\n",
    "\n",
    "fig = Clustergram(\n",
    "    data=matrix,\n",
    "    column_labels=list(matrix.columns.values),\n",
    "    row_labels=list(matrix.index),\n",
    "    height=400,\n",
    "    width=800,\n",
    "    color_map = [\n",
    "        [0, \"#222\"],\n",
    "        [1, \"aqua\"]\n",
    "    ],\n",
    "    center_values=False,\n",
    ")\n",
    "fig.update_layout(template='plotly_dark')\n",
    "# Update only the heatmap axes, not all axes:\n",
    "fig.update_yaxes(title_text='Voters', selector={'anchor': 'x11'})\n",
    "fig.update_xaxes(title_text='Submitters', selector={'anchor': 'y11'})"
   ]
  },
  {
   "cell_type": "code",
   "execution_count": 8,
   "metadata": {},
   "outputs": [],
   "source": [
    "fig.write_html('clustergram.html')"
   ]
  },
  {
   "cell_type": "code",
   "execution_count": 18,
   "metadata": {},
   "outputs": [],
   "source": [
    "def get(voter, submitter):\n",
    "    subset = df[(df['voter'] == voter) & (df['submitter'] == submitter)]\n",
    "    subset.sort_values(by='vote', ascending=False, inplace=True)\n",
    "    print(f'{voter} gave {subset[\"vote\"].sum()} votes to {submitter}')\n",
    "    titles = subset['title'].values\n",
    "    votes = subset['vote'].values\n",
    "    print(f'Votes: {[f\"{title} ({vote})\" for title, vote in zip(titles, votes)]}')"
   ]
  },
  {
   "cell_type": "code",
   "execution_count": 20,
   "metadata": {},
   "outputs": [
    {
     "name": "stdout",
     "output_type": "stream",
     "text": [
      "Laura South gave 25 votes to skpurdue\n",
      "Votes: ['No Better (6)', 'Rest in Peace (6)', 'American Pie (5)', \"Don't Judge Me (5)\", 'Surfing on a Sine Wave (3)']\n"
     ]
    }
   ],
   "source": [
    "get('Laura South', 'skpurdue')"
   ]
  },
  {
   "cell_type": "code",
   "execution_count": null,
   "metadata": {},
   "outputs": [],
   "source": []
  }
 ],
 "metadata": {
  "kernelspec": {
   "display_name": ".venv",
   "language": "python",
   "name": "python3"
  },
  "language_info": {
   "codemirror_mode": {
    "name": "ipython",
    "version": 3
   },
   "file_extension": ".py",
   "mimetype": "text/x-python",
   "name": "python",
   "nbconvert_exporter": "python",
   "pygments_lexer": "ipython3",
   "version": "3.12.2"
  }
 },
 "nbformat": 4,
 "nbformat_minor": 2
}
